{
 "cells": [
  {
   "cell_type": "code",
   "execution_count": 1,
   "id": "6b846188-2267-4c5f-ad89-5d12d231063e",
   "metadata": {},
   "outputs": [],
   "source": [
    "import torch\n",
    "import numpy as np\n",
    "from synchrotron_simulator_gpu_Dataset import SynchrotronSimulator, SimulationRunner, SimulationDataset\n",
    "from automate_dataset_collection import DataAutomation\n"
   ]
  },
  {
   "cell_type": "code",
   "execution_count": 2,
   "id": "a6eef163-8a74-4d0d-a8b2-32f2c723dc75",
   "metadata": {},
   "outputs": [],
   "source": [
    "# Define base simulation configurations with embedded quadrupole errors\n",
    "base_configurations = [\n",
    "    {\n",
    "        'config_name': 'Configuration 1',\n",
    "        'design_radius': 20.0,    # meters\n",
    "        'n_FODO': 8,\n",
    "        'f': 15,                  # meters\n",
    "        'L_quad': 0.4,            # meters\n",
    "        'quad_error': {\n",
    "            'FODO_index': 0,\n",
    "            'quad_type': 'focusing',\n",
    "            'delta': 1e-5,  # This will be randomized later\n",
    "            'plane': 'horizontal'  # 'horizontal' or 'vertical'\n",
    "        },\n",
    "    },\n",
    "]\n",
    "\n",
    "common_parameters = {\n",
    "    'n_field_index': np.sqrt(0.2),    # Field index\n",
    "    'p': 5.344286e-19,                # Momentum in kg m/s (p_GeV_c=0.7)\n",
    "    'G': 1.0,                         # Tesla/meter\n",
    "    'q': 1.602e-19,                   # Proton charge in Coulombs\n",
    "    'n_turns': 1000,                  # Number of revolutions to simulate\n",
    "    'num_particles': 1000,             # Number of particles to simulate\n",
    "    'window_size': 10,                # Average window size for moving averages\n",
    "    'use_thin_lens': False,\n",
    "    # Initial conditions ranges as tuples\n",
    "    'x0_min_max': (-0.05, 0.05),      # meters\n",
    "    'xp0_min_max': (-0.001, 0.001),   # radians\n",
    "    'y0_min_max': (-0.05, 0.05),      # meters\n",
    "    'yp0_min_max': (-0.001, 0.001),   # radians\n",
    "    # Acceptable ranges for configuration parameters\n",
    "    'mag_field_range': [0.1, 2.0],                 # Tesla\n",
    "    'dipole_length_range': [0.2, 14.0],            # meters\n",
    "    'horizontal_tune_range': [0.1, 0.8],           # Tune\n",
    "    'vertical_tune_range': [0.1, 0.8],             # Tune\n",
    "    'total_dipole_bending_angle_range': (np.pi, 2 * np.pi),\n",
    "    # Use CUDA GPU kernels to accelerate simulation\n",
    "    'use_gpu': True,\n",
    "    # Debug\n",
    "    'verbose': False,\n",
    "    # Parameters for generate_data\n",
    "    'start_rev': 900,\n",
    "    'end_rev': 1000,\n",
    "    'fodo_cell_indices': [0],  # Indices of BPMs to consider\n",
    "    'planes': ['y'],\n",
    "    'delta_range': (-1e-5, 1e-5),\n",
    "    'com_delta_range': (-50e-6, 50e-6),\n",
    "}"
   ]
  },
  {
   "cell_type": "code",
   "execution_count": 3,
   "id": "7c114988-51aa-45a4-9851-8401e6c94d0d",
   "metadata": {},
   "outputs": [
    {
     "name": "stderr",
     "output_type": "stream",
     "text": [
      "Running Simulations:   0%|                                          | 0/2 [00:00<?, ?it/s]/home/aribra/.local/lib/python3.10/site-packages/numba/cuda/dispatcher.py:536: NumbaPerformanceWarning: Grid size 16 will likely result in GPU under-utilization due to low occupancy.\n",
      "  warn(NumbaPerformanceWarning(msg))\n"
     ]
    },
    {
     "name": "stdout",
     "output_type": "stream",
     "text": [
      "[Info] Using `GPU` backend for simulation.\n"
     ]
    },
    {
     "name": "stderr",
     "output_type": "stream",
     "text": [
      "/home/aribra/.local/lib/python3.10/site-packages/numba/cuda/dispatcher.py:536: NumbaPerformanceWarning: Grid size 16 will likely result in GPU under-utilization due to low occupancy.\n",
      "  warn(NumbaPerformanceWarning(msg))\n",
      "Running Simulations:  50%|█████████████████                 | 1/2 [00:37<00:37, 37.21s/it]/home/aribra/.local/lib/python3.10/site-packages/numba/cuda/dispatcher.py:536: NumbaPerformanceWarning: Grid size 16 will likely result in GPU under-utilization due to low occupancy.\n",
      "  warn(NumbaPerformanceWarning(msg))\n"
     ]
    },
    {
     "name": "stdout",
     "output_type": "stream",
     "text": [
      "[Info] Using `GPU` backend for simulation.\n"
     ]
    },
    {
     "name": "stderr",
     "output_type": "stream",
     "text": [
      "/home/aribra/.local/lib/python3.10/site-packages/numba/cuda/dispatcher.py:536: NumbaPerformanceWarning: Grid size 16 will likely result in GPU under-utilization due to low occupancy.\n",
      "  warn(NumbaPerformanceWarning(msg))\n",
      "Running Simulations: 100%|██████████████████████████████████| 2/2 [01:17<00:00, 38.57s/it]"
     ]
    },
    {
     "name": "stdout",
     "output_type": "stream",
     "text": [
      "All Input Tensors Shape: torch.Size([4, 100, 1, 1])\n",
      "All Target Tensors Shape: torch.Size([4, 1])\n"
     ]
    },
    {
     "name": "stderr",
     "output_type": "stream",
     "text": [
      "\n"
     ]
    }
   ],
   "source": [
    "# Define the number of simulations\n",
    "n_simulations = 2\n",
    "\n",
    "# Create an instance of DataAutomation\n",
    "data_automation = DataAutomation(base_configurations, common_parameters, n_simulations)\n",
    "\n",
    "# Run the data automation process and get the data tensors\n",
    "input_tensors, target_tensors = data_automation.run()\n",
    "\n",
    "# Check if data was collected\n",
    "if input_tensors is not None and target_tensors is not None:\n",
    "    print(f\"All Input Tensors Shape: {input_tensors.shape}\")\n",
    "    print(f\"All Target Tensors Shape: {target_tensors.shape}\")\n",
    "else:\n",
    "    print(\"No simulations within the specified delta range.\")\n"
   ]
  },
  {
   "cell_type": "code",
   "execution_count": 2,
   "id": "61a82248-7149-4152-b2b1-6dc2c195549b",
   "metadata": {},
   "outputs": [
    {
     "ename": "NameError",
     "evalue": "name 'input_tensors' is not defined",
     "output_type": "error",
     "traceback": [
      "\u001b[0;31m---------------------------------------------------------------------------\u001b[0m",
      "\u001b[0;31mNameError\u001b[0m                                 Traceback (most recent call last)",
      "Cell \u001b[0;32mIn[2], line 1\u001b[0m\n\u001b[0;32m----> 1\u001b[0m \u001b[43minput_tensors\u001b[49m\u001b[38;5;241m.\u001b[39mshape\n",
      "\u001b[0;31mNameError\u001b[0m: name 'input_tensors' is not defined"
     ]
    }
   ],
   "source": [
    "input_tensors.shape"
   ]
  },
  {
   "cell_type": "code",
   "execution_count": 4,
   "id": "75b78027-0cc6-49ec-8ce6-bb1aa3222ba3",
   "metadata": {},
   "outputs": [
    {
     "ename": "NameError",
     "evalue": "name 'target_tensors' is not defined",
     "output_type": "error",
     "traceback": [
      "\u001b[0;31m---------------------------------------------------------------------------\u001b[0m",
      "\u001b[0;31mNameError\u001b[0m                                 Traceback (most recent call last)",
      "Cell \u001b[0;32mIn[4], line 1\u001b[0m\n\u001b[0;32m----> 1\u001b[0m \u001b[43mtarget_tensors\u001b[49m\n",
      "\u001b[0;31mNameError\u001b[0m: name 'target_tensors' is not defined"
     ]
    }
   ],
   "source": [
    "target_tensors"
   ]
  }
 ],
 "metadata": {
  "kernelspec": {
   "display_name": "Python (py310)",
   "language": "python",
   "name": "py310"
  },
  "language_info": {
   "codemirror_mode": {
    "name": "ipython",
    "version": 3
   },
   "file_extension": ".py",
   "mimetype": "text/x-python",
   "name": "python",
   "nbconvert_exporter": "python",
   "pygments_lexer": "ipython3",
   "version": "3.10.9"
  }
 },
 "nbformat": 4,
 "nbformat_minor": 5
}
